{
  "nbformat": 4,
  "nbformat_minor": 0,
  "metadata": {
    "colab": {
      "provenance": [],
      "authorship_tag": "ABX9TyMVwNTrfja1rA+gXi5NyY3B",
      "include_colab_link": true
    },
    "kernelspec": {
      "name": "python3",
      "display_name": "Python 3"
    },
    "language_info": {
      "name": "python"
    }
  },
  "cells": [
    {
      "cell_type": "markdown",
      "metadata": {
        "id": "view-in-github",
        "colab_type": "text"
      },
      "source": [
        "<a href=\"https://colab.research.google.com/github/Kaiser-h/Learning-Python-Again/blob/main/python_basics.ipynb\" target=\"_parent\"><img src=\"https://colab.research.google.com/assets/colab-badge.svg\" alt=\"Open In Colab\"/></a>"
      ]
    },
    {
      "cell_type": "code",
      "execution_count": 75,
      "metadata": {
        "colab": {
          "base_uri": "https://localhost:8080/"
        },
        "id": "BJUxuRUwCbvd",
        "outputId": "573538a6-9373-4822-8a5e-cc7db477706a"
      },
      "outputs": [
        {
          "output_type": "stream",
          "name": "stdout",
          "text": [
            "1\n"
          ]
        }
      ],
      "source": [
        "# sliding windows problem\n",
        "\n",
        "#1 variable length\n",
        "s = \"ssssss\"\n",
        "l=0\n",
        "loggest = 0\n",
        "currSet = set()\n",
        "for r in range(len(s)):\n",
        "    while s[r] in currSet:\n",
        "        currSet.remove(s[l])\n",
        "        l+=1\n",
        "    currSet.add(s[r])\n",
        "    loggest = max(loggest, r-l+1)\n",
        "print(loggest)"
      ]
    },
    {
      "cell_type": "code",
      "source": [
        "#2 fixed length\n",
        "nums = [1,12,-5,-6,50,3]\n",
        "k = 4\n",
        "\n",
        "def findMaxAverage(nums, k):\n",
        "    l = 0\n",
        "    r = k\n",
        "    avg = 0\n",
        "    avgs = []\n",
        "    while r <= len(nums):\n",
        "      avg = sum(nums[l:r])/k\n",
        "      avgs.append(avg)\n",
        "      avg = 0\n",
        "      l+=1\n",
        "      r+=1\n",
        "    return max(avgs)\n",
        "\n",
        "print(findMaxAverage(nums, k))"
      ],
      "metadata": {
        "id": "RVLv9GFYCtI5",
        "colab": {
          "base_uri": "https://localhost:8080/"
        },
        "outputId": "66512da9-3c83-4c19-d159-f729289532d4"
      },
      "execution_count": 73,
      "outputs": [
        {
          "output_type": "stream",
          "name": "stdout",
          "text": [
            "12.75\n"
          ]
        }
      ]
    },
    {
      "cell_type": "code",
      "source": [
        "#2 fixed length\n",
        "nums = [1,12,-5,-6,50,3]\n",
        "k=4\n",
        "def findMaxAverage(nums, k):\n",
        "    n = len(nums)\n",
        "    cur_sum = 0\n",
        "\n",
        "    for i in range(k):\n",
        "        cur_sum += nums[i]\n",
        "\n",
        "    max_avg = cur_sum/k\n",
        "\n",
        "    for i in range(k, n):\n",
        "        cur_sum += nums[i] - nums[i-k]\n",
        "        cur_avg = cur_sum/k\n",
        "        max_avg = max(max_avg, cur_avg)\n",
        "    return max_avg\n",
        "\n",
        "print(findMaxAverage(nums, k))"
      ],
      "metadata": {
        "colab": {
          "base_uri": "https://localhost:8080/"
        },
        "id": "KlXYEv5DsTSK",
        "outputId": "e989dc56-31aa-4001-e25c-84ea067fa392"
      },
      "execution_count": 76,
      "outputs": [
        {
          "output_type": "stream",
          "name": "stdout",
          "text": [
            "12.75\n"
          ]
        }
      ]
    },
    {
      "cell_type": "code",
      "source": [
        "nums = [1,5,4,2,9,9,9]\n",
        "k = 3\n",
        "\n",
        "from collections import defaultdict\n",
        "count = defaultdict(int)\n",
        "l = 0\n",
        "n = len(nums)\n",
        "cur_sum = 0\n",
        "res = 0\n",
        "\n",
        "for r in range(n):\n",
        "  cur_sum += nums[r]\n",
        "  count[nums[r]] += 1\n",
        "\n",
        "  if r-l+1 > k:\n",
        "    cur_sum -= nums[l]\n",
        "    count[nums[l]] -= 1\n",
        "    if count[nums[l]] == 0:\n",
        "      count.pop(nums[l])\n",
        "    l+=1\n",
        "\n",
        "  if len(count) == k and r - l + 1 == k:\n",
        "    res = max(res, cur_sum)\n",
        "print(res)\n",
        "\n"
      ],
      "metadata": {
        "colab": {
          "base_uri": "https://localhost:8080/"
        },
        "id": "GWzo-LCpzbXR",
        "outputId": "3aa4a3ba-e3e2-4bff-9f70-38679380cd87"
      },
      "execution_count": 87,
      "outputs": [
        {
          "output_type": "stream",
          "name": "stdout",
          "text": [
            "15\n"
          ]
        }
      ]
    },
    {
      "cell_type": "code",
      "source": [],
      "metadata": {
        "id": "8UQ5Qwu0zfvj"
      },
      "execution_count": null,
      "outputs": []
    }
  ]
}