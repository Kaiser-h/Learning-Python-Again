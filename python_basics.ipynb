{
  "nbformat": 4,
  "nbformat_minor": 0,
  "metadata": {
    "colab": {
      "provenance": [],
      "authorship_tag": "ABX9TyOwXIMe4HJ3Yq0G/dte+QNv",
      "include_colab_link": true
    },
    "kernelspec": {
      "name": "python3",
      "display_name": "Python 3"
    },
    "language_info": {
      "name": "python"
    }
  },
  "cells": [
    {
      "cell_type": "markdown",
      "metadata": {
        "id": "view-in-github",
        "colab_type": "text"
      },
      "source": [
        "<a href=\"https://colab.research.google.com/github/Kaiser-h/Learning-Python-Again/blob/main/python_basics.ipynb\" target=\"_parent\"><img src=\"https://colab.research.google.com/assets/colab-badge.svg\" alt=\"Open In Colab\"/></a>"
      ]
    },
    {
      "cell_type": "code",
      "execution_count": 53,
      "metadata": {
        "colab": {
          "base_uri": "https://localhost:8080/"
        },
        "id": "BJUxuRUwCbvd",
        "outputId": "5447da45-9d72-44c3-9b45-8c3d017c3ff6"
      },
      "outputs": [
        {
          "output_type": "stream",
          "name": "stdout",
          "text": [
            "3\n"
          ]
        }
      ],
      "source": [
        "# sliding windows problem\n",
        "\n",
        "#1 variable length\n",
        "s = \"pwwkew\"\n",
        "l=0\n",
        "loggest = 0\n",
        "currSet = set()\n",
        "for r in range(len(s)):\n",
        "    while s[r] in currSet:\n",
        "        currSet.remove(s[l])\n",
        "        l+=1\n",
        "    currSet.add(s[r])\n",
        "    loggest = max(loggest, r-l+1)\n",
        "print(loggest)"
      ]
    },
    {
      "cell_type": "code",
      "source": [
        "#2 fixed length\n",
        "nums = [1,12,-5,-6,50,3]\n",
        "k = 4\n",
        "\n",
        "def findMaxAverage(nums, k):\n",
        "    l = 0\n",
        "    r = k\n",
        "    avg = 0\n",
        "    avgs = []\n",
        "    while r <= len(nums):\n",
        "      avg = sum(nums[l:r])/k\n",
        "      avgs.append(avg)\n",
        "      avg = 0\n",
        "      l+=1\n",
        "      r+=1\n",
        "    return max(avgs)\n",
        "\n",
        "print(findMaxAverage(nums, k))"
      ],
      "metadata": {
        "id": "RVLv9GFYCtI5",
        "outputId": "66512da9-3c83-4c19-d159-f729289532d4",
        "colab": {
          "base_uri": "https://localhost:8080/"
        }
      },
      "execution_count": 73,
      "outputs": [
        {
          "output_type": "stream",
          "name": "stdout",
          "text": [
            "12.75\n"
          ]
        }
      ]
    },
    {
      "cell_type": "code",
      "source": [
        "#2 fixed length\n",
        "nums = [1,12,-5,-6,50,3]\n",
        "k=4\n",
        "def findMaxAverage(nums, k):\n",
        "    n = len(nums)\n",
        "    cur_sum = 0\n",
        "\n",
        "    for i in range(k):\n",
        "        cur_sum += nums[i]\n",
        "\n",
        "    max_avg = cur_sum/k\n",
        "\n",
        "    for i in range(k, n):\n",
        "        cur_sum += nums[i] - nums[i-k]\n",
        "        cur_avg = cur_sum/k\n",
        "        max_avg = max(max_avg, cur_avg)\n",
        "    return max_avg\n",
        "\n",
        "print(findMaxAverage(nums, k))"
      ],
      "metadata": {
        "id": "KlXYEv5DsTSK",
        "outputId": "8544cc6e-bba2-4c52-f7c4-e3289fef30ac",
        "colab": {
          "base_uri": "https://localhost:8080/"
        }
      },
      "execution_count": 74,
      "outputs": [
        {
          "output_type": "stream",
          "name": "stdout",
          "text": [
            "12.75\n"
          ]
        }
      ]
    }
  ]
}